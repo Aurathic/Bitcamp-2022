{
 "cells": [
  {
   "cell_type": "code",
   "execution_count": 9,
   "id": "b4b69cb2-0013-494d-9655-4d7b4d152491",
   "metadata": {},
   "outputs": [],
   "source": [
    "import requests\n",
    "from bs4 import BeautifulSoup"
   ]
  },
  {
   "cell_type": "code",
   "execution_count": 6,
   "id": "cac5e2db-7b9a-47cf-b129-3588c15c20ab",
   "metadata": {},
   "outputs": [],
   "source": [
    "headers = {\"User-Agent\": \"Mozilla/5.0 (Windows NT 10.0; Win64; x64) AppleWebKit/537.36 (KHTML, like Gecko) Chrome/70.0.3538.77 Safari/537.36\"}\n"
   ]
  },
  {
   "cell_type": "code",
   "execution_count": 10,
   "id": "3aeb836a-367e-4427-9f4d-072383b5aa2f",
   "metadata": {},
   "outputs": [],
   "source": [
    "soup = BeautifulSoup(r.content, 'html.parser')"
   ]
  },
  {
   "cell_type": "code",
   "execution_count": 55,
   "id": "c2ba1d68-af54-4fb8-bf7b-a566d646f732",
   "metadata": {},
   "outputs": [],
   "source": [
    "#soup.html.body.select(\"h2\")\n",
    "r = requests.get(\"https://www.amazon.com/s?i=computers&rh=n%3A565108&fs=true&page=2\", headers=headers)\n",
    "links = soup.html.body.select(\".a-link-normal.s-underline-text.s-underline-link-text.s-link-style.a-text-normal\")[3:]\n",
    "names_a = links[::2]\n",
    "prices_a = links[1::2]"
   ]
  },
  {
   "cell_type": "code",
   "execution_count": 56,
   "id": "edacbbc3-4fed-4a86-bfb4-74bb12a9ec73",
   "metadata": {},
   "outputs": [],
   "source": [
    "hrefs = [n['href'] for n in names_a]\n",
    "names = [n.text for n in names_a]\n",
    "prices = [p.text for p in prices_a]"
   ]
  },
  {
   "cell_type": "code",
   "execution_count": 57,
   "id": "52fa4f89-f495-4f7b-b16b-12d1a667ee50",
   "metadata": {},
   "outputs": [
    {
     "data": {
      "text/plain": [
       "['/gp/slredirect/picassoRedirect.html/ref=pa_sp_atf_browse_computers_sr_pg2_1?ie=UTF8&adId=A01736761RW2WKG3IN2ZQ&url=%2FHP-Business-i5-1135G7-Fingerprint-Windows%2Fdp%2FB09L7Z2RFN%2Fref%3Dsr_1_26_sspa%3Fqid%3D1649478158%26s%3Dpc%26sr%3D1-26-spons%26psc%3D1&qualifier=1649478158&id=5995485562303102&widgetName=sp_atf_browse',\n",
       " '/gp/slredirect/picassoRedirect.html/ref=pa_sp_atf_browse_computers_sr_pg2_1?ie=UTF8&adId=A043548830QA50HCJ10WR&url=%2FTouchscreen-CHUWI-LarkBook-Notebook-Keyboard%2Fdp%2FB09B782V81%2Fref%3Dsr_1_27_sspa%3Fqid%3D1649478158%26s%3Dpc%26sr%3D1-27-spons%26psc%3D1&qualifier=1649478158&id=5995485562303102&widgetName=sp_atf_browse',\n",
       " '/Dell-Touchscreen-i7-1195G7-LPDDR4x-Graphics/dp/B09DFKQL8K/ref=sr_1_28?qid=1649478158&s=pc&sr=1-28',\n",
       " '/HP-Chromebook-Touchscreen-Entertaining-Bluetooth/dp/B08TH23KK5/ref=sr_1_29?qid=1649478158&s=pc&sr=1-29',\n",
       " '/Samsung-Chromebook-Celeron-Processor-Gigabit/dp/B07XQQTVS3/ref=sr_1_30?qid=1649478158&s=pc&sr=1-30',\n",
       " '/Apple-MacBook-Processor-MQD32LL-Version/dp/B078H42W49/ref=sr_1_31?qid=1649478158&s=pc&sr=1-31',\n",
       " '/Acer-Display-Octa-Core-Processor-SF314-43-R2YY/dp/B08YD1JLJF/ref=sr_1_32?qid=1649478158&s=pc&sr=1-32',\n",
       " '/Alienware-Display-i7-11800H-GeForce-Windows/dp/B09DFKDGRN/ref=sr_1_33?qid=1649478158&s=pc&sr=1-33',\n",
       " '/HP-Generation-i5-1135G7-Graphics-17-cn0025nr/dp/B09FXLRBFQ/ref=sr_1_34?qid=1649478158&s=pc&sr=1-34',\n",
       " '/Apple-MacBook-MJVM2LL-1-6GHz-Refurbished/dp/B01KIIQUFW/ref=sr_1_35?qid=1649478158&s=pc&sr=1-35',\n",
       " '/Dell-ChromeBook-NoteBook-Certified-Refurbished/dp/B07781S5L5/ref=sr_1_36?qid=1649478158&s=pc&sr=1-36',\n",
       " '/ASUS-Display-GeForce-Keyboard-G533ZW-AS94/dp/B09RMW1L7Y/ref=sr_1_37?qid=1649478158&s=pc&sr=1-37',\n",
       " '/Newest-HP-Pavilion-7-5700U-i7-1180G7/dp/B09QS7W8G5/ref=sr_1_38?qid=1649478158&s=pc&sr=1-38',\n",
       " '/Lenovo-IdeaPad-Processor-Graphics-81VU00D1US/dp/B09BG85LRV/ref=sr_1_39?qid=1649478158&s=pc&sr=1-39',\n",
       " '/gp/slredirect/picassoRedirect.html/ref=pa_sp_mtf_browse_computers_sr_pg2_1?ie=UTF8&adId=A09089371IRH7C7MQWL52&url=%2F2022-HP-Business-Laptop-i7-1165G7%2Fdp%2FB09V2HC6RH%2Fref%3Dsr_1_40_sspa%3Fqid%3D1649478158%26s%3Dpc%26sr%3D1-40-spons%26psc%3D1&qualifier=1649478158&id=5995485562303102&widgetName=sp_mtf_browse',\n",
       " '/gp/slredirect/picassoRedirect.html/ref=pa_sp_mtf_browse_computers_sr_pg2_1?ie=UTF8&adId=A0871742KOF0OEH3JRO1&url=%2FWindows-Tulasi-Celeron-Computer-Support%2Fdp%2FB09TLDV66T%2Fref%3Dsr_1_41_sspa%3Fqid%3D1649478158%26s%3Dpc%26sr%3D1-41-spons%26psc%3D1&qualifier=1649478158&id=5995485562303102&widgetName=sp_mtf_browse',\n",
       " '/gp/slredirect/picassoRedirect.html/ref=pa_sp_mtf_browse_computers_sr_pg2_1?ie=UTF8&adId=A08923176SOYD00O4OL3&url=%2FHP-Pavilion-Touchscreen-i7-1165G7-Processor%2Fdp%2FB09PY4FNKQ%2Fref%3Dsr_1_42_sspa%3Fqid%3D1649478158%26s%3Dpc%26sr%3D1-42-spons%26psc%3D1&qualifier=1649478158&id=5995485562303102&widgetName=sp_mtf_browse',\n",
       " '/Flagship-HP-Chromebook-Anti-Glare-Processor/dp/B08PDTLK1Q/ref=sr_1_43?qid=1649478158&s=pc&sr=1-43',\n",
       " '/Apple-MacBook-MD711LL-11-6-Inch-Refurbished/dp/B01550MWHI/ref=sr_1_44?qid=1649478158&s=pc&sr=1-44',\n",
       " '/Samsung-Chromebook-Graphics-Celeron-Processor/dp/B08M2X68W5/ref=sr_1_45?qid=1649478158&s=pc&sr=1-45',\n",
       " '/HP-Chromebook-11-inch-Laptop-11a-na0021nr/dp/B08H6YZY3Y/ref=sr_1_46?qid=1649478158&s=pc&sr=1-46',\n",
       " '/MacBook-Apple-Memory-256GB-Space/dp/B08PNQTYV2/ref=sr_1_47?qid=1649478158&s=pc&sr=1-47',\n",
       " '/Apple-MD760LL-13-3-Inch-Dual-Core-Bluetooth/dp/B01LZORCUR/ref=sr_1_48?qid=1649478158&s=pc&sr=1-48',\n",
       " '/ASUS-Celeron-Processor-Personal-L210MA-DB02/dp/B09HX29TPY/ref=sr_1_49?qid=1649478158&s=pc&sr=1-49',\n",
       " '/Lenovo-Chromebook-i3-1115G4-Processor-82M7000SUX/dp/B08YKFTZH6/ref=sr_1_50?qid=1649478158&s=pc&sr=1-50',\n",
       " '/HP-ChromeBook-11-6-inch-Certified-Refurbished/dp/B0776JJJ2H/ref=sr_1_51?qid=1649478158&s=pc&sr=1-51',\n",
       " '/Samsung-Chromebook-Celeron-Processor-Gigabit/dp/B07XL4JHXR/ref=sr_1_52?qid=1649478158&s=pc&sr=1-52',\n",
       " '/Acer-Chromebook-Convertible-Bluetooth-CP311-2H-C679/dp/B086MBQKH2/ref=sr_1_53?qid=1649478158&s=pc&sr=1-53',\n",
       " '/ASUS-Processor-NumberPad-Microsoft-L210MA-DB01/dp/B081V6W99V/ref=sr_1_54_mod_primary_new?qid=1649478158&s=pc&sbo=RZvfv%2F%2FHxDF%2BO5021pAnSA%3D%3D&sr=1-54',\n",
       " '/gp/slredirect/picassoRedirect.html/ref=pa_sp_btf_browse_computers_sr_pg2_1?ie=UTF8&adId=A0595710ONCPW7HF2YWK&url=%2FASUS-VivoBook-Micro-Edge-i3-1115G4-Graphics%2Fdp%2FB09W7YWM8C%2Fref%3Dsr_1_55_sspa%3Fqid%3D1649478158%26s%3Dpc%26sr%3D1-55-spons%26psc%3D1&qualifier=1649478158&id=5995485562303102&widgetName=sp_btf_browse',\n",
       " '/gp/slredirect/picassoRedirect.html/ref=pa_sp_btf_browse_computers_sr_pg2_1?ie=UTF8&adId=A0261739NYVXW8EWSG10&url=%2FDisplay-Windows-Computer-Celeron-Portable-Gray%2Fdp%2FB09P8H3VB1%2Fref%3Dsr_1_56_sspa%3Fqid%3D1649478158%26s%3Dpc%26sr%3D1-56-spons%26psc%3D1&qualifier=1649478158&id=5995485562303102&widgetName=sp_btf_browse',\n",
       " '/gp/slredirect/picassoRedirect.html/ref=pa_sp_btf_browse_computers_sr_pg2_1?ie=UTF8&adId=A06301372HKO2JZK28SEO&url=%2FDERE-Computer-i7-7500U-1920x1080-Keyboard%2Fdp%2FB09NLYQ1DX%2Fref%3Dsr_1_57_sspa%3Fqid%3D1649478158%26s%3Dpc%26sr%3D1-57-spons%26psc%3D1&qualifier=1649478158&id=5995485562303102&widgetName=sp_btf_browse']"
      ]
     },
     "execution_count": 57,
     "metadata": {},
     "output_type": "execute_result"
    }
   ],
   "source": [
    "hrefs"
   ]
  },
  {
   "cell_type": "markdown",
   "id": "0dcfc336-1c2b-4fe5-80ac-ae0534e10367",
   "metadata": {},
   "source": []
  },
  {
   "cell_type": "code",
   "execution_count": null,
   "id": "4d27bb38-0d03-4ac4-b901-ac0746f2e7f0",
   "metadata": {},
   "outputs": [],
   "source": []
  }
 ],
 "metadata": {
  "kernelspec": {
   "display_name": "Python 3 (ipykernel)",
   "language": "python",
   "name": "python3"
  },
  "language_info": {
   "codemirror_mode": {
    "name": "ipython",
    "version": 3
   },
   "file_extension": ".py",
   "mimetype": "text/x-python",
   "name": "python",
   "nbconvert_exporter": "python",
   "pygments_lexer": "ipython3",
   "version": "3.9.7"
  }
 },
 "nbformat": 4,
 "nbformat_minor": 5
}
