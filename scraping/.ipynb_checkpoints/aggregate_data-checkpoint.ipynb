{
 "cells": [
  {
   "cell_type": "code",
   "execution_count": 1,
   "id": "93e6c53f-ad3c-451f-9206-96fccc3d0d86",
   "metadata": {},
   "outputs": [],
   "source": [
    "import numpy as np\n",
    "import pandas as pd"
   ]
  },
  {
   "cell_type": "markdown",
   "id": "b5001533-c105-4591-a9fd-7121281dd3ae",
   "metadata": {},
   "source": [
    "## Import Files"
   ]
  },
  {
   "cell_type": "code",
   "execution_count": 12,
   "id": "8f98612b-fece-40b9-a03e-23438dbc6271",
   "metadata": {},
   "outputs": [],
   "source": [
    "nb = pd.read_csv(\"laptops.csv\", encoding = 'unicode_escape')"
   ]
  },
  {
   "cell_type": "code",
   "execution_count": 16,
   "id": "6cf4b0b4-8ac3-48b6-a9a3-3a559d2ef7d1",
   "metadata": {},
   "outputs": [],
   "source": [
    "import os\n",
    "benchmark_files = os.path.join(os.getcwd(), \"benchmarks\")\n",
    "def get_benchmark_df(file_name): return  pd.read_csv(os.path.join(benchmark_files, file_name), encoding = 'unicode_escape')\n",
    "cpu = get_benchmark_df(\"CPU_UserBenchmarks.csv\")\n",
    "gpu = get_benchmark_df(\"GPU_UserBenchmarks.csv\")"
   ]
  },
  {
   "cell_type": "markdown",
   "id": "a7954a09-4942-42a8-ab62-3a713e4cd361",
   "metadata": {},
   "source": [
    "## "
   ]
  },
  {
   "cell_type": "code",
   "execution_count": null,
   "id": "524b7e7e-1caf-406a-9d9d-b792a6ff7c3f",
   "metadata": {},
   "outputs": [],
   "source": []
  }
 ],
 "metadata": {
  "kernelspec": {
   "display_name": "Python 3 (ipykernel)",
   "language": "python",
   "name": "python3"
  },
  "language_info": {
   "codemirror_mode": {
    "name": "ipython",
    "version": 3
   },
   "file_extension": ".py",
   "mimetype": "text/x-python",
   "name": "python",
   "nbconvert_exporter": "python",
   "pygments_lexer": "ipython3",
   "version": "3.9.7"
  }
 },
 "nbformat": 4,
 "nbformat_minor": 5
}
