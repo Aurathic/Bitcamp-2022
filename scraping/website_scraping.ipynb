{
 "cells": [
  {
   "cell_type": "code",
   "execution_count": 113,
   "id": "b4b69cb2-0013-494d-9655-4d7b4d152491",
   "metadata": {},
   "outputs": [],
   "source": [
    "import requests\n",
    "from bs4 import BeautifulSoup\n",
    "import re"
   ]
  },
  {
   "cell_type": "code",
   "execution_count": 22,
   "id": "cac5e2db-7b9a-47cf-b129-3588c15c20ab",
   "metadata": {},
   "outputs": [],
   "source": [
    "headers = {\"User-Agent\": \"Mozilla/5.0 (Windows NT 10.0; Win64; x64) AppleWebKit/537.36 (KHTML, like Gecko) Chrome/70.0.3538.77 Safari/537.36\"}\n"
   ]
  },
  {
   "cell_type": "code",
   "execution_count": 24,
   "id": "5482a240-a352-4300-92b3-dcc911aa828a",
   "metadata": {},
   "outputs": [
    {
     "data": {
      "text/plain": [
       "b'<!--\\n        To discuss automated access to Amazon data please contact api-services-support@amazon.com.\\n        For information about migrating to our APIs refer to our Marketplace APIs at https://developer.amazonservices.com/ref=rm_5_sv, or our Product Advertising API at https://affiliate-program.amazon.com/gp/advertising/api/detail/main.html/ref=rm_5_ac for advertising use cases.\\n-->\\n<!doctype html>\\n<html>\\n<head>\\n  <meta charset=\"utf-8\">\\n  <meta http-equiv=\"x-ua-compatible\" content=\"ie=edge\">\\n  <meta name=\"viewport\" content=\"width=device-width, initial-scale=1, shrink-to-fit=no\">\\n  <title>Sorry! Something went wrong!</title>\\n  <style>\\n  html, body {\\n    padding: 0;\\n    margin: 0\\n  }\\n\\n  img {\\n    border: 0\\n  }\\n\\n  #a {\\n    background: #232f3e;\\n    padding: 11px 11px 11px 192px\\n  }\\n\\n  #b {\\n    position: absolute;\\n    left: 22px;\\n    top: 12px\\n  }\\n\\n  #c {\\n    position: relative;\\n    max-width: 800px;\\n    padding: 0 40px 0 0\\n  }\\n\\n  #e, #f {\\n    height: 35px;\\n    border: 0;\\n    font-size: 1em\\n  }\\n\\n  #e {\\n    width: 100%;\\n    margin: 0;\\n    padding: 0 10px;\\n    border-radius: 4px 0 0 4px\\n  }\\n\\n  #f {\\n    cursor: pointer;\\n    background: #febd69;\\n    font-weight: bold;\\n    border-radius: 0 4px 4px 0;\\n    -webkit-appearance: none;\\n    position: absolute;\\n    top: 0;\\n    right: 0;\\n    padding: 0 12px\\n  }\\n\\n  @media (max-width: 500px) {\\n    #a {\\n      padding: 55px 10px 10px\\n    }\\n\\n    #b {\\n      left: 6px\\n    }\\n  }\\n\\n  #g {\\n    text-align: center;\\n    margin: 30px 0\\n  }\\n\\n  #g img {\\n    max-width: 90%\\n  }\\n\\n  #d {\\n    display: none\\n  }\\n\\n  #d[src] {\\n    display: inline\\n  }\\n  </style>\\n</head>\\n<body>\\n    <a href=\"/ref=cs_503_logo\"><img id=\"b\" src=\"https://images-na.ssl-images-amazon.com/images/G/01/error/logo._TTD_.png\" alt=\"Amazon.com\"></a>\\n    <form id=\"a\" accept-charset=\"utf-8\" action=\"/s\" method=\"GET\" role=\"search\">\\n        <div id=\"c\">\\n            <input id=\"e\" name=\"field-keywords\" placeholder=\"Search\">\\n            <input name=\"ref\" type=\"hidden\" value=\"cs_503_search\">\\n            <input id=\"f\" type=\"submit\" value=\"Go\">\\n        </div>\\n    </form>\\n<div id=\"g\">\\n  <div><a href=\"/ref=cs_503_link\"><img src=\"https://images-na.ssl-images-amazon.com/images/G/01/error/500_503.png\"\\n                                        alt=\"Sorry! Something went wrong on our end. Please go back and try again or go to Amazon\\'s home page.\"></a>\\n  </div>\\n  <a href=\"/dogsofamazon/ref=cs_503_d\" target=\"_blank\" rel=\"noopener noreferrer\"><img id=\"d\" alt=\"Dogs of Amazon\"></a>\\n  <script>document.getElementById(\"d\").src = \"https://images-na.ssl-images-amazon.com/images/G/01/error/\" + (Math.floor(Math.random() * 43) + 1) + \"._TTD_.jpg\";</script>\\n</div>\\n</body>\\n</html>\\n'"
      ]
     },
     "execution_count": 24,
     "metadata": {},
     "output_type": "execute_result"
    }
   ],
   "source": [
    "r = requests.get(f\"https://www.amazon.com/s?i=computers&rh=n%3A565108&page=1\", headers=headers)\n",
    "r.content"
   ]
  },
  {
   "cell_type": "code",
   "execution_count": 42,
   "id": "3aeb836a-367e-4427-9f4d-072383b5aa2f",
   "metadata": {},
   "outputs": [],
   "source": [
    "def amazon_laptop_page(page_num):\n",
    "    r = requests.get(f\"https://www.amazon.com/s?i=computers&rh=n%3A565108&fs=true&page=2\", headers=headers)\n",
    "    soup = BeautifulSoup(r.content, 'html.parser')\n",
    "    #print(soup.content)\n",
    "    links = soup.html.body.select(\".a-link-normal.s-underline-text.s-underline-link-text.s-link-style.a-text-normal\")[3:]\n",
    "    #print(links)\n",
    "    names_a = links[::2]\n",
    "    prices_a = links[1::2]\n",
    "    hrefs = [n['href'] for n in names_a]\n",
    "    names = [n.text for n in names_a]\n",
    "    prices = [p.text for p in prices_a]\n",
    "    return (hrefs, names, prices)"
   ]
  },
  {
   "cell_type": "code",
   "execution_count": 13,
   "id": "06a81d11-f729-4b1e-9bea-63a038d96947",
   "metadata": {},
   "outputs": [
    {
     "name": "stdout",
     "output_type": "stream",
     "text": [
      "None\n",
      "[]\n"
     ]
    },
    {
     "data": {
      "text/plain": [
       "([], [], [])"
      ]
     },
     "execution_count": 15,
     "metadata": {},
     "output_type": "execute_result"
    }
   ],
   "source": [
    "amazon_laptop_page(2)"
   ]
  },
  {
   "cell_type": "code",
   "execution_count": 50,
   "id": "c2ba1d68-af54-4fb8-bf7b-a566d646f732",
   "metadata": {},
   "outputs": [],
   "source": [
    "def get_website_links(website_func, num_pages, file_name):\n",
    "    with open(file_name, \"w\") as amazon_laptop_file:\n",
    "        for page_num in range(num_pages):\n",
    "            hrefs, names, prices = website_func(page_num)\n",
    "            print(f\"{len(hrefs)}, {len(names)}, {len(prices)}\")\n",
    "            for tup in zip(hrefs, names, prices):\n",
    "                print(tup)\n",
    "                amazon_laptop_file.write(\"\\t\".join(tup)+\"\\n\")"
   ]
  },
  {
   "cell_type": "code",
   "execution_count": null,
   "id": "b33f6684-0be6-4c4c-b1c1-923c13327355",
   "metadata": {},
   "outputs": [],
   "source": [
    "get_website_links(amazon_laptop_page, 10, \"amazon_laptop_links.tsv\")"
   ]
  },
  {
   "cell_type": "markdown",
   "id": "123bcd40-1b54-4399-8d52-a2deab14a273",
   "metadata": {},
   "source": [
    "## Newegg Requests"
   ]
  },
  {
   "cell_type": "code",
   "execution_count": 129,
   "id": "9ee6fa38-b0ea-44b6-b170-207b704872f3",
   "metadata": {},
   "outputs": [],
   "source": [
    "def newegg_laptop_page(page_num):\n",
    "    price_pattern = r\"[\\d,]+\\.\\d{2}\"\n",
    "    page_link = f\"https://www.newegg.com/Laptops-Notebooks/SubCategory/ID-32/Page-{page_num}\"\n",
    "    r = requests.get(page_link, headers=headers)\n",
    "    soup = BeautifulSoup(r.content, 'html.parser')\n",
    "    soup = soup.html.body\n",
    "    items = soup.select(\".item-container\")\n",
    "    item_list = []\n",
    "    for item in items:\n",
    "        name_html = item.select(\".item-title\")[0]\n",
    "        price_html = item.select(\".price-current\")\n",
    "        price_match = re.findall(price_pattern, price_html[0].text)\n",
    "        price = price_match[0] if price_match else None\n",
    "        #print(f\"{name_html},{price_html}\")\n",
    "        item_list.append((\n",
    "            name_html['href'],\n",
    "            name_html.text,\n",
    "            price if price else \"\"\n",
    "        ))\n",
    "    return item_list\n",
    "\n",
    "def get_newegg_links(num_pages, file_name):\n",
    "    with open(file_name, \"w\") as laptop_file:\n",
    "        for page_num in range(num_pages):\n",
    "            print(f\"page {page_num}\")\n",
    "            for tup in newegg_laptop_page(page_num):\n",
    "                #print(tup)\n",
    "                laptop_file.write(\"\\t\".join(tup)+\"\\n\")"
   ]
  },
  {
   "cell_type": "code",
   "execution_count": 130,
   "id": "113e7ff3-9599-4c67-86b6-5f2e348e770b",
   "metadata": {},
   "outputs": [
    {
     "name": "stdout",
     "output_type": "stream",
     "text": [
      "page 0\n",
      "page 1\n",
      "page 2\n",
      "page 3\n",
      "page 4\n",
      "page 5\n",
      "page 6\n",
      "page 7\n",
      "page 8\n",
      "page 9\n",
      "page 10\n",
      "page 11\n",
      "page 12\n",
      "page 13\n",
      "page 14\n",
      "page 15\n",
      "page 16\n",
      "page 17\n",
      "page 18\n",
      "page 19\n",
      "page 20\n",
      "page 21\n",
      "page 22\n",
      "page 23\n",
      "page 24\n",
      "page 25\n",
      "page 26\n",
      "page 27\n",
      "page 28\n",
      "page 29\n",
      "page 30\n",
      "page 31\n",
      "page 32\n",
      "page 33\n",
      "page 34\n",
      "page 35\n",
      "page 36\n",
      "page 37\n",
      "page 38\n",
      "page 39\n",
      "page 40\n",
      "page 41\n",
      "page 42\n",
      "page 43\n",
      "page 44\n",
      "page 45\n",
      "page 46\n",
      "page 47\n",
      "page 48\n",
      "page 49\n",
      "page 50\n",
      "page 51\n",
      "page 52\n",
      "page 53\n",
      "page 54\n",
      "page 55\n",
      "page 56\n",
      "page 57\n",
      "page 58\n",
      "page 59\n",
      "page 60\n",
      "page 61\n",
      "page 62\n",
      "page 63\n",
      "page 64\n",
      "page 65\n",
      "page 66\n",
      "page 67\n",
      "page 68\n",
      "page 69\n",
      "page 70\n",
      "page 71\n",
      "page 72\n",
      "page 73\n",
      "page 74\n",
      "page 75\n",
      "page 76\n",
      "page 77\n",
      "page 78\n",
      "page 79\n",
      "page 80\n",
      "page 81\n",
      "page 82\n",
      "page 83\n",
      "page 84\n",
      "page 85\n",
      "page 86\n",
      "page 87\n",
      "page 88\n",
      "page 89\n",
      "page 90\n",
      "page 91\n",
      "page 92\n",
      "page 93\n",
      "page 94\n",
      "page 95\n",
      "page 96\n",
      "page 97\n",
      "page 98\n",
      "page 99\n"
     ]
    }
   ],
   "source": [
    "get_newegg_links(100, \"newegg_laptop_links.tsv\")"
   ]
  },
  {
   "cell_type": "markdown",
   "id": "9b5fb1f9-2dd2-4497-92f5-1c5c4ef28013",
   "metadata": {},
   "source": [
    "# Getting Data From Product Pages"
   ]
  },
  {
   "cell_type": "code",
   "execution_count": 133,
   "id": "1ba9da74-35f1-4fef-9bd0-13535fb70eb1",
   "metadata": {},
   "outputs": [],
   "source": [
    "import pandas as pd"
   ]
  },
  {
   "cell_type": "code",
   "execution_count": 138,
   "id": "46f58f77-d9eb-4ba5-bd94-efc62eb105c7",
   "metadata": {},
   "outputs": [],
   "source": [
    "newegg_df = pd.read_csv(\"newegg_laptop_links.tsv\", encoding = 'unicode_escape', sep=\"\\t\", header=None)"
   ]
  },
  {
   "cell_type": "code",
   "execution_count": 139,
   "id": "3e275147-493b-45dc-8ddb-5548a01bca8c",
   "metadata": {},
   "outputs": [
    {
     "data": {
      "text/html": [
       "<div>\n",
       "<style scoped>\n",
       "    .dataframe tbody tr th:only-of-type {\n",
       "        vertical-align: middle;\n",
       "    }\n",
       "\n",
       "    .dataframe tbody tr th {\n",
       "        vertical-align: top;\n",
       "    }\n",
       "\n",
       "    .dataframe thead th {\n",
       "        text-align: right;\n",
       "    }\n",
       "</style>\n",
       "<table border=\"1\" class=\"dataframe\">\n",
       "  <thead>\n",
       "    <tr style=\"text-align: right;\">\n",
       "      <th></th>\n",
       "      <th>0</th>\n",
       "      <th>1</th>\n",
       "      <th>2</th>\n",
       "    </tr>\n",
       "  </thead>\n",
       "  <tbody>\n",
       "    <tr>\n",
       "      <th>0</th>\n",
       "      <td>https://www.newegg.com/pine-gray-asus-zenbook-...</td>\n",
       "      <td>ASUS ZenBook 13 Ultra-Slim Laptop, 13.3\" OLED ...</td>\n",
       "      <td>849.99</td>\n",
       "    </tr>\n",
       "    <tr>\n",
       "      <th>1</th>\n",
       "      <td>https://www.newegg.com/black-lenovo-20uw0012us...</td>\n",
       "      <td>Lenovo ThinkPad X12 Detachable Gen 1 Laptop, 1...</td>\n",
       "      <td>949.00</td>\n",
       "    </tr>\n",
       "    <tr>\n",
       "      <th>2</th>\n",
       "      <td>https://www.newegg.com/acer-sf514-55ta-77ww/p/...</td>\n",
       "      <td>Acer Intel EVO Laptop Swift 5 SF514-55TA-77WW ...</td>\n",
       "      <td>999.99</td>\n",
       "    </tr>\n",
       "    <tr>\n",
       "      <th>3</th>\n",
       "      <td>https://www.newegg.com/intel-nuc-m15-lapbc710/...</td>\n",
       "      <td>Helix WorkPlex 1170EN Premium 15.6\" Touchscree...</td>\n",
       "      <td>1,249.99</td>\n",
       "    </tr>\n",
       "    <tr>\n",
       "      <th>4</th>\n",
       "      <td>https://www.newegg.com/indie-black-asus-vivobo...</td>\n",
       "      <td>ASUS VivoBook 15 OLED K513 Laptop, 15.6 OLED D...</td>\n",
       "      <td>919.99</td>\n",
       "    </tr>\n",
       "    <tr>\n",
       "      <th>...</th>\n",
       "      <td>...</td>\n",
       "      <td>...</td>\n",
       "      <td>...</td>\n",
       "    </tr>\n",
       "    <tr>\n",
       "      <th>3756</th>\n",
       "      <td>https://www.newegg.com/quiet-blue-asus-vivoboo...</td>\n",
       "      <td>ASUS Laptop VivoBook Pro K3500PC-DH59-CA Intel...</td>\n",
       "      <td>1,098.22</td>\n",
       "    </tr>\n",
       "    <tr>\n",
       "      <th>3757</th>\n",
       "      <td>https://www.newegg.com/p/1TS-000A-0CCK4</td>\n",
       "      <td>Dell Inspiron 14 5000 Laptop Computer 14\" FHD ...</td>\n",
       "      <td>549.00</td>\n",
       "    </tr>\n",
       "    <tr>\n",
       "      <th>3758</th>\n",
       "      <td>https://www.newegg.com/p/1TS-000D-09G70</td>\n",
       "      <td>HP Laptop 15.6\" Screen, 10th Gen Intel Core i7...</td>\n",
       "      <td>799.00</td>\n",
       "    </tr>\n",
       "    <tr>\n",
       "      <th>3759</th>\n",
       "      <td>https://www.newegg.com/p/2SN-0001-01B62</td>\n",
       "      <td>Apple MacBook Air with Apple M1 Chip (13-inch,...</td>\n",
       "      <td>1,069.95</td>\n",
       "    </tr>\n",
       "    <tr>\n",
       "      <th>3760</th>\n",
       "      <td>https://www.newegg.com/p/1TS-000D-0RJW3</td>\n",
       "      <td>HP EliteBook 840 G8 14\" Laptop i7-1165G7 16GB ...</td>\n",
       "      <td>1,834.99</td>\n",
       "    </tr>\n",
       "  </tbody>\n",
       "</table>\n",
       "<p>3761 rows × 3 columns</p>\n",
       "</div>"
      ],
      "text/plain": [
       "                                                      0  \\\n",
       "0     https://www.newegg.com/pine-gray-asus-zenbook-...   \n",
       "1     https://www.newegg.com/black-lenovo-20uw0012us...   \n",
       "2     https://www.newegg.com/acer-sf514-55ta-77ww/p/...   \n",
       "3     https://www.newegg.com/intel-nuc-m15-lapbc710/...   \n",
       "4     https://www.newegg.com/indie-black-asus-vivobo...   \n",
       "...                                                 ...   \n",
       "3756  https://www.newegg.com/quiet-blue-asus-vivoboo...   \n",
       "3757            https://www.newegg.com/p/1TS-000A-0CCK4   \n",
       "3758            https://www.newegg.com/p/1TS-000D-09G70   \n",
       "3759            https://www.newegg.com/p/2SN-0001-01B62   \n",
       "3760            https://www.newegg.com/p/1TS-000D-0RJW3   \n",
       "\n",
       "                                                      1         2  \n",
       "0     ASUS ZenBook 13 Ultra-Slim Laptop, 13.3\" OLED ...    849.99  \n",
       "1     Lenovo ThinkPad X12 Detachable Gen 1 Laptop, 1...    949.00  \n",
       "2     Acer Intel EVO Laptop Swift 5 SF514-55TA-77WW ...    999.99  \n",
       "3     Helix WorkPlex 1170EN Premium 15.6\" Touchscree...  1,249.99  \n",
       "4     ASUS VivoBook 15 OLED K513 Laptop, 15.6 OLED D...    919.99  \n",
       "...                                                 ...       ...  \n",
       "3756  ASUS Laptop VivoBook Pro K3500PC-DH59-CA Intel...  1,098.22  \n",
       "3757  Dell Inspiron 14 5000 Laptop Computer 14\" FHD ...    549.00  \n",
       "3758  HP Laptop 15.6\" Screen, 10th Gen Intel Core i7...    799.00  \n",
       "3759  Apple MacBook Air with Apple M1 Chip (13-inch,...  1,069.95  \n",
       "3760  HP EliteBook 840 G8 14\" Laptop i7-1165G7 16GB ...  1,834.99  \n",
       "\n",
       "[3761 rows x 3 columns]"
      ]
     },
     "execution_count": 139,
     "metadata": {},
     "output_type": "execute_result"
    }
   ],
   "source": [
    "newegg_df"
   ]
  },
  {
   "cell_type": "code",
   "execution_count": null,
   "id": "ac7ceaf2-3329-422b-b8ac-4b0a3af8a7c9",
   "metadata": {},
   "outputs": [],
   "source": []
  }
 ],
 "metadata": {
  "kernelspec": {
   "display_name": "Python 3 (ipykernel)",
   "language": "python",
   "name": "python3"
  },
  "language_info": {
   "codemirror_mode": {
    "name": "ipython",
    "version": 3
   },
   "file_extension": ".py",
   "mimetype": "text/x-python",
   "name": "python",
   "nbconvert_exporter": "python",
   "pygments_lexer": "ipython3",
   "version": "3.9.7"
  }
 },
 "nbformat": 4,
 "nbformat_minor": 5
}
