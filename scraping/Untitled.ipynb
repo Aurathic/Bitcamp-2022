{
 "cells": [
  {
   "cell_type": "code",
   "execution_count": 4,
   "id": "e258d830-80b3-4972-ac87-2b87686124a7",
   "metadata": {},
   "outputs": [
    {
     "data": {
      "text/plain": [
       "b'{\"code\":30,\"message\":\"Valid method. Fatal error: No model id or model name provided.\",\"result\":{},\"daily_hits_left\":\"499\"}'"
      ]
     },
     "execution_count": 4,
     "metadata": {},
     "output_type": "execute_result"
    }
   ],
   "source": [
    "import requests\n",
    "r = requests.post('https://noteb.com/api/webservice.php', data={'apikey': '112233aabbcc',\n",
    "'method': \"get_model_info\"})\n",
    "r.text"
   ]
  },
  {
   "cell_type": "code",
   "execution_count": 6,
   "id": "99bb4945-88ed-4f3d-b94a-0c1f3e708d3c",
   "metadata": {},
   "outputs": [
    {
     "data": {
      "text/plain": [
       "'{\"code\":30,\"message\":\"Valid method. Unable to identify model by ID, falling back to name search. Fatal error: Too many models selected, please provide a more specific name.\",\"result\":{},\"daily_hits_left\":\"497\"}'"
      ]
     },
     "execution_count": 6,
     "metadata": {},
     "output_type": "execute_result"
    }
   ],
   "source": [
    "r = requests.post('https://noteb.com/api/webservice.php', data={'apikey': \"112233aabbcc\",\n",
    "'method': \"get_model_info\", 'param[model_id]': 2000})\n",
    "r.text"
   ]
  },
  {
   "cell_type": "code",
   "execution_count": null,
   "id": "3c1edad9-537d-41b5-9213-0e573963fcc8",
   "metadata": {},
   "outputs": [],
   "source": []
  }
 ],
 "metadata": {
  "kernelspec": {
   "display_name": "Python 3 (ipykernel)",
   "language": "python",
   "name": "python3"
  },
  "language_info": {
   "codemirror_mode": {
    "name": "ipython",
    "version": 3
   },
   "file_extension": ".py",
   "mimetype": "text/x-python",
   "name": "python",
   "nbconvert_exporter": "python",
   "pygments_lexer": "ipython3",
   "version": "3.9.7"
  }
 },
 "nbformat": 4,
 "nbformat_minor": 5
}
